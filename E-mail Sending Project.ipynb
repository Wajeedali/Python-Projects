{
 "cells": [
  {
   "cell_type": "markdown",
   "metadata": {},
   "source": [
    "# Email Sending Project - G-mail"
   ]
  },
  {
   "cell_type": "code",
   "execution_count": 1,
   "metadata": {},
   "outputs": [
    {
     "name": "stdout",
     "output_type": "stream",
     "text": [
      "Requirement already satisfied: emails in c:\\users\\wajid\\anaconda3\\lib\\site-packages (0.6)\n",
      "Requirement already satisfied: requests in c:\\users\\wajid\\anaconda3\\lib\\site-packages (from emails) (2.24.0)\n",
      "Requirement already satisfied: premailer in c:\\users\\wajid\\anaconda3\\lib\\site-packages (from emails) (3.7.0)\n",
      "Requirement already satisfied: python-dateutil in c:\\users\\wajid\\anaconda3\\lib\\site-packages (from emails) (2.8.1)\n",
      "Requirement already satisfied: lxml in c:\\users\\wajid\\anaconda3\\lib\\site-packages (from emails) (4.6.1)\n",
      "Requirement already satisfied: chardet in c:\\users\\wajid\\anaconda3\\lib\\site-packages (from emails) (3.0.4)\n",
      "Requirement already satisfied: cssutils in c:\\users\\wajid\\anaconda3\\lib\\site-packages (from emails) (1.0.2)\n",
      "Requirement already satisfied: certifi>=2017.4.17 in c:\\users\\wajid\\anaconda3\\lib\\site-packages (from requests->emails) (2020.6.20)\n",
      "Requirement already satisfied: idna<3,>=2.5 in c:\\users\\wajid\\anaconda3\\lib\\site-packages (from requests->emails) (2.10)\n",
      "Requirement already satisfied: urllib3!=1.25.0,!=1.25.1,<1.26,>=1.21.1 in c:\\users\\wajid\\anaconda3\\lib\\site-packages (from requests->emails) (1.25.11)\n",
      "Requirement already satisfied: cachetools in c:\\users\\wajid\\anaconda3\\lib\\site-packages (from premailer->emails) (4.2.0)\n",
      "Requirement already satisfied: cssselect in c:\\users\\wajid\\anaconda3\\lib\\site-packages (from premailer->emails) (1.1.0)\n",
      "Requirement already satisfied: six>=1.5 in c:\\users\\wajid\\anaconda3\\lib\\site-packages (from python-dateutil->emails) (1.15.0)\n"
     ]
    }
   ],
   "source": [
    "!pip install emails"
   ]
  },
  {
   "cell_type": "code",
   "execution_count": 30,
   "metadata": {},
   "outputs": [],
   "source": [
    "import emails"
   ]
  },
  {
   "cell_type": "code",
   "execution_count": 41,
   "metadata": {},
   "outputs": [],
   "source": [
    "def sendmail(email,name):\n",
    "    html_text = '''<p><strong><span style=\"background-color: rgb(65, 168, 95);\">Hello,'''+name+'''</span></strong></p>\n",
    "                <p><br></p>\n",
    "                <p>This is my very first email which I&apos;m writing from Python. It is interesting that we can write directly from code too. But, i also get questions like<span style=\"color: rgb(184, 49, 47);\"> why to write with coding when this work can be directly done from G-mail itself or any other email sending softwares?</span></p>\n",
    "                <p><br></p>\n",
    "                <p>Hope, soon i get clarity overit. Thankyou, for reading me.</p>\n",
    "                <p><br></p>\n",
    "                <p><span style=\"background-color: rgb(97, 189, 109);\">Allah Hafiz</span></p>'''\n",
    "    subject = \"Hey \"+ name + \",Revert back to your Student\"\n",
    "\n",
    "    message = emails.html(html=html_text,\n",
    "                         subject=subject,\n",
    "                         mail_from=('Mohd Wajeed Ali', 'sender_email@gmail.com'))\n",
    "    mail_from_python = message.send(to=email, \n",
    "                                smtp={'host': 'smtp.gmail.com', \n",
    "                                      'timeout': 5,\n",
    "                                     'port':587,\n",
    "                                     'user': 'sender_email@gmail.com',\n",
    "                                     'password':'sender_password',\n",
    "                                     'tls': True})\n",
    "    return"
   ]
  },
  {
   "cell_type": "code",
   "execution_count": 42,
   "metadata": {},
   "outputs": [],
   "source": [
    "sendmail(\"reciever_email@gmail.com)"
   ]
  },
  {
   "cell_type": "code",
   "execution_count": 43,
   "metadata": {},
   "outputs": [
    {
     "data": {
      "text/plain": [
       "250"
      ]
     },
     "execution_count": 43,
     "metadata": {},
     "output_type": "execute_result"
    }
   ],
   "source": [
    "mail_from_python.status_code"
   ]
  }
 ],
 "metadata": {
  "kernelspec": {
   "display_name": "Python 3",
   "language": "python",
   "name": "python3"
  },
  "language_info": {
   "codemirror_mode": {
    "name": "ipython",
    "version": 3
   },
   "file_extension": ".py",
   "mimetype": "text/x-python",
   "name": "python",
   "nbconvert_exporter": "python",
   "pygments_lexer": "ipython3",
   "version": "3.8.5"
  }
 },
 "nbformat": 4,
 "nbformat_minor": 4
}
