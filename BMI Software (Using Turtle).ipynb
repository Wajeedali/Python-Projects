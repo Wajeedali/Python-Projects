{
 "cells": [
  {
   "cell_type": "code",
   "execution_count": 6,
   "metadata": {},
   "outputs": [],
   "source": [
    "import turtle"
   ]
  },
  {
   "cell_type": "code",
   "execution_count": 7,
   "metadata": {},
   "outputs": [
    {
     "name": "stdout",
     "output_type": "stream",
     "text": [
      "Your BMI is->  15.0\n"
     ]
    }
   ],
   "source": [
    "height = turtle.numinput(\"Your Height\", \"What is your height in cms?\")\n",
    "weight = turtle.numinput(\"Your Weight\", \"What is your weight in KGs?\")\n",
    "\n",
    "BMI = weight//(height/100)**2\n",
    "\n",
    "print(\"Your BMI is-> \", BMI)"
   ]
  },
  {
   "cell_type": "code",
   "execution_count": null,
   "metadata": {},
   "outputs": [],
   "source": []
  }
 ],
 "metadata": {
  "kernelspec": {
   "display_name": "Python 3",
   "language": "python",
   "name": "python3"
  }
 },
 "nbformat": 4,
 "nbformat_minor": 4
}
