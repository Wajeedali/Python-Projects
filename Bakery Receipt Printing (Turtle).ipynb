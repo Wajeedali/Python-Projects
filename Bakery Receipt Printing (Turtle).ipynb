{
 "cells": [
  {
   "cell_type": "code",
   "execution_count": 1,
   "metadata": {},
   "outputs": [],
   "source": [
    "import turtle"
   ]
  },
  {
   "cell_type": "code",
   "execution_count": 3,
   "metadata": {},
   "outputs": [
    {
     "name": "stdout",
     "output_type": "stream",
     "text": [
      "Bill Cost Rs.  940.0\n",
      "GST@18% Rs.  169.2\n",
      "Total Amount Rs. 1109.2\n",
      "Thank You, Visit Again @ Raza Bakers\n"
     ]
    }
   ],
   "source": [
    "black_forest = turtle.numinput(\"Black Forest\", \"Enter No.of pieces\")\n",
    "chocolate_truffle = turtle.numinput(\"Chocolate Truffle\", \"Enter No.of pieces\")\n",
    "strawberry = turtle.numinput(\"Strawberry\", \"Enter No.of pieces\")\n",
    "red_velvet = turtle.numinput(\"Red Velvet\", \"Enter No.of Pieces\")\n",
    "hazel_nut_choco = turtle.numinput(\"Hazel Nut Choco\", \"Enter No.of pieces\")\n",
    "\n",
    "cost_black_forest = 50\n",
    "cost_chocolate_truffle = 60\n",
    "cost_strawberry = 60\n",
    "cost_red_velvet = 70\n",
    "cost_hazel_nut_choco = 45\n",
    "bill = black_forest*cost_black_forest + chocolate_truffle*cost_chocolate_truffle + strawberry*cost_strawberry + red_velvet*cost_red_velvet + hazel_nut_choco*cost_hazel_nut_choco\n",
    "GST = 0.18*bill\n",
    "total_bill = bill + GST\n",
    "\n",
    "print(\"Bill Cost Rs. \", bill)\n",
    "print(\"GST@18% Rs. \", GST)\n",
    "print(\"Total Amount Rs.\", total_bill)\n",
    "\n",
    "print (\"Thank You, Visit Again @ Raza Bakers\")"
   ]
  },
  {
   "cell_type": "code",
   "execution_count": null,
   "metadata": {},
   "outputs": [],
   "source": []
  }
 ],
 "metadata": {
  "kernelspec": {
   "display_name": "Python 3",
   "language": "python",
   "name": "python3"
  },
  "language_info": {
   "codemirror_mode": {
    "name": "ipython",
    "version": 3
   },
   "file_extension": ".py",
   "mimetype": "text/x-python",
   "name": "python",
   "nbconvert_exporter": "python",
   "pygments_lexer": "ipython3",
   "version": "3.8.5"
  }
 },
 "nbformat": 4,
 "nbformat_minor": 4
}
